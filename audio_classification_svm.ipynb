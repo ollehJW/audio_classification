{
 "cells": [
  {
   "cell_type": "markdown",
   "metadata": {},
   "source": [
    "## 1. 사용할 패키지 불러오기"
   ]
  },
  {
   "cell_type": "code",
   "execution_count": 1,
   "metadata": {},
   "outputs": [],
   "source": [
    "import cv2\n",
    "import tqdm\n",
    "import os\n",
    "import pandas as pd\n",
    "import numpy as np\n",
    "import seaborn as sns\n",
    "import random\n",
    "import matplotlib.pyplot as plt\n",
    "from collections import Counter\n",
    "\n",
    "\n",
    "from sklearn.metrics import confusion_matrix\n",
    "from sklearn.metrics import accuracy_score, precision_score, recall_score, f1_score\n",
    "from sklearn.decomposition import PCA\n",
    "from sklearn.model_selection import GridSearchCV, StratifiedKFold\n",
    "from sklearn.svm import SVC\n",
    "\n",
    "from librosa.feature import melspectrogram\n",
    "import librosa\n",
    "import librosa.display\n"
   ]
  },
  {
   "cell_type": "markdown",
   "metadata": {},
   "source": [
    "## 2. 데이터 불러오기"
   ]
  },
  {
   "cell_type": "code",
   "execution_count": 2,
   "metadata": {},
   "outputs": [],
   "source": [
    "ok_files = os.listdir(\"data/OK\")\n",
    "ng_files = os.listdir(\"data/NG\")"
   ]
  },
  {
   "cell_type": "markdown",
   "metadata": {},
   "source": [
    "## 3. Experiment Setting"
   ]
  },
  {
   "cell_type": "markdown",
   "metadata": {},
   "source": [
    "### (1) Train Test 분할"
   ]
  },
  {
   "cell_type": "markdown",
   "metadata": {},
   "source": [
    "Class Imbalaance 문제를 최소화하기 위해서 아래와 같이 Train과 Test를 구성한다.  \n",
    "\n",
    "- Train: OK = 900개  NG = 900개\n",
    "- Test: OK = 100개  NG = 100개"
   ]
  },
  {
   "cell_type": "code",
   "execution_count": 3,
   "metadata": {},
   "outputs": [],
   "source": [
    "np.random.seed(555)\n",
    "train_ok_samples = np.random.choice(a=ok_files, size=900, replace=False)\n",
    "train_ng_samples = np.random.choice(a=ng_files, size=900, replace=False)\n",
    "test_ok_samples = np.random.choice(a=list(set(ok_files)- set(train_ok_samples)), size=100, replace=False)\n",
    "test_ng_samples = np.random.choice(a=list(set(ng_files) - set(train_ng_samples)), size=100, replace=False)\n",
    "\n",
    "train_files = [os.path.join(\"data/OK\", fname) for fname in train_ok_samples] + [os.path.join(\"./data/NG\", fname) for fname in train_ng_samples]\n",
    "test_files = [os.path.join(\"data/OK\", fname) for fname in test_ok_samples] + [os.path.join(\"./data/NG\", fname) for fname in test_ng_samples]\n",
    "train_y = np.array([0] * len(train_ok_samples) + [1] * len(train_ng_samples))\n",
    "test_y = np.array([0] * len(test_ok_samples) + [1] * len(test_ng_samples))\n"
   ]
  },
  {
   "cell_type": "markdown",
   "metadata": {},
   "source": [
    "### (2) Make Features"
   ]
  },
  {
   "cell_type": "code",
   "execution_count": 4,
   "metadata": {},
   "outputs": [],
   "source": [
    "def mel_spectrogram(file_name):  \n",
    "    signal, _ = librosa.load(file_name, 16000)\n",
    "    spec=melspectrogram(y=signal, sr=16000, n_fft=1024,\n",
    "                        hop_length=512, n_mels=128)\n",
    "    spec= librosa.power_to_db(S=spec, ref=np.max)\n",
    "    spec = (spec - np.min(spec)) / (np.max(spec) - np.min(spec))\n",
    "    spec = np.stack([np.mean(spec,1), np.min(spec,1), np.max(spec,1), np.std(spec,1)])\n",
    "    return spec.reshape(-1)"
   ]
  },
  {
   "cell_type": "code",
   "execution_count": 5,
   "metadata": {},
   "outputs": [
    {
     "name": "stderr",
     "output_type": "stream",
     "text": [
      "/tmp/ipykernel_27638/7161428.py:2: FutureWarning: Pass sr=16000 as keyword args. From version 0.10 passing these as positional arguments will result in an error\n",
      "  signal, _ = librosa.load(file_name, 16000)\n",
      "/tmp/ipykernel_27638/7161428.py:2: FutureWarning: Pass sr=16000 as keyword args. From version 0.10 passing these as positional arguments will result in an error\n",
      "  signal, _ = librosa.load(file_name, 16000)\n"
     ]
    }
   ],
   "source": [
    "train_feature = [mel_spectrogram(file_name) for file_name in train_files]\n",
    "train_feature = np.vstack(train_feature)\n",
    "\n",
    "test_feature = [mel_spectrogram(file_name) for file_name in test_files]\n",
    "test_feature = np.vstack(test_feature)"
   ]
  },
  {
   "cell_type": "code",
   "execution_count": 6,
   "metadata": {},
   "outputs": [
    {
     "name": "stdout",
     "output_type": "stream",
     "text": [
      "Train Feature: (1800, 512)\n",
      "Test Feature: (200, 512)\n"
     ]
    }
   ],
   "source": [
    "print(\"Train Feature: {}\".format(train_feature.shape))\n",
    "print(\"Test Feature: {}\".format(test_feature.shape))\n"
   ]
  },
  {
   "cell_type": "markdown",
   "metadata": {},
   "source": [
    "### (3) PCA"
   ]
  },
  {
   "cell_type": "markdown",
   "metadata": {},
   "source": [
    "#### 머신러닝을 사용하기에는 Feature가 너무 많아서 PCA를 활용하여 차원축소 진행"
   ]
  },
  {
   "cell_type": "code",
   "execution_count": 7,
   "metadata": {},
   "outputs": [],
   "source": [
    "all_features = np.vstack([train_feature, test_feature])\n",
    "pca = PCA(n_components=50)\n",
    "printcipalComponents = pca.fit_transform(all_features)\n",
    "principalDf = pd.DataFrame(data=printcipalComponents)\n"
   ]
  },
  {
   "cell_type": "code",
   "execution_count": 8,
   "metadata": {},
   "outputs": [
    {
     "data": {
      "text/plain": [
       "<matplotlib.lines.Line2D at 0x7fd830a42ee0>"
      ]
     },
     "execution_count": 8,
     "metadata": {},
     "output_type": "execute_result"
    },
    {
     "data": {
      "image/png": "[encoded data removed]",
      "text/plain": [
       "<Figure size 640x480 with 1 Axes>"
      ]
     },
     "metadata": {},
     "output_type": "display_data"
    }
   ],
   "source": [
    "pca_var = pd.DataFrame({\"PC\": range(1, 51), \"Var\": np.cumsum(pca.explained_variance_ratio_)})\n",
    "sns.set_style('whitegrid')\n",
    "sns.lineplot(x='PC', y='Var', data=pca_var)\n",
    "plt.axhline(0.85, 0, 50, color='red', linestyle='--', linewidth=4)"
   ]
  },
  {
   "cell_type": "markdown",
   "metadata": {},
   "source": [
    "85% 설명력이 되는 16개의 PC를 활용하도록 한다."
   ]
  },
  {
   "cell_type": "code",
   "execution_count": 10,
   "metadata": {},
   "outputs": [],
   "source": [
    "pca = PCA(n_components=16)\n",
    "printcipalComponents = pca.fit_transform(all_features)\n",
    "principalDf = pd.DataFrame(data=printcipalComponents)\n",
    "train_features = principalDf.iloc[:1800, :].reset_index(drop = True)\n",
    "test_features = principalDf.iloc[1800:, :].reset_index(drop = True)\n"
   ]
  },
  {
   "cell_type": "markdown",
   "metadata": {},
   "source": [
    "## 4. SVM"
   ]
  },
  {
   "cell_type": "code",
   "execution_count": 11,
   "metadata": {},
   "outputs": [],
   "source": [
    "def find_best_hyperparameter(model, params, K):\n",
    "    # Make K-folds dataset\n",
    "    kfold = StratifiedKFold(n_splits = K, shuffle = True, random_state = 1004)\n",
    "    \n",
    "    # Make Grid Search\n",
    "    grid = GridSearchCV(model, params, cv = kfold)\n",
    "\n",
    "    # Conduct Hyperparameter Search\n",
    "    grid.fit(train_features, train_y)\n",
    "    best_params = grid.best_params_\n",
    "    best_score = grid.best_score_\n",
    "\n",
    "    # Print Result\n",
    "    print(\"Best Hyper Parameter: {}\".format(best_params))\n",
    "    print(\"Best Score: {}\".format(best_score))\n",
    "\n",
    "    return best_params"
   ]
  },
  {
   "cell_type": "code",
   "execution_count": 12,
   "metadata": {},
   "outputs": [
    {
     "name": "stdout",
     "output_type": "stream",
     "text": [
      "Best Hyper Parameter: {'C': 100, 'kernel': 'linear'}\n",
      "Best Score: 0.745\n"
     ]
    }
   ],
   "source": [
    "svm_model = SVC(probability=True)\n",
    "params = {'kernel': ['linear', 'rbf', 'poly'], 'C': [1, 10, 100]}\n",
    "best_params = find_best_hyperparameter(svm_model, params, 5)"
   ]
  },
  {
   "cell_type": "markdown",
   "metadata": {},
   "source": [
    "## 5. Test Performance"
   ]
  },
  {
   "cell_type": "code",
   "execution_count": 13,
   "metadata": {},
   "outputs": [
    {
     "data": {
      "text/html": [
       "<style>#sk-container-id-1 {color: black;}#sk-container-id-1 pre{padding: 0;}#sk-container-id-1 div.sk-toggleable {background-color: white;}#sk-container-id-1 label.sk-toggleable__label {cursor: pointer;display: block;width: 100%;margin-bottom: 0;padding: 0.3em;box-sizing: border-box;text-align: center;}#sk-container-id-1 label.sk-toggleable__label-arrow:before {content: \"▸\";float: left;margin-right: 0.25em;color: #696969;}#sk-container-id-1 label.sk-toggleable__label-arrow:hover:before {color: black;}#sk-container-id-1 div.sk-estimator:hover label.sk-toggleable__label-arrow:before {color: black;}#sk-container-id-1 div.sk-toggleable__content {max-height: 0;max-width: 0;overflow: hidden;text-align: left;background-color: #f0f8ff;}#sk-container-id-1 div.sk-toggleable__content pre {margin: 0.2em;color: black;border-radius: 0.25em;background-color: #f0f8ff;}#sk-container-id-1 input.sk-toggleable__control:checked~div.sk-toggleable__content {max-height: 200px;max-width: 100%;overflow: auto;}#sk-container-id-1 input.sk-toggleable__control:checked~label.sk-toggleable__label-arrow:before {content: \"▾\";}#sk-container-id-1 div.sk-estimator input.sk-toggleable__control:checked~label.sk-toggleable__label {background-color: #d4ebff;}#sk-container-id-1 div.sk-label input.sk-toggleable__control:checked~label.sk-toggleable__label {background-color: #d4ebff;}#sk-container-id-1 input.sk-hidden--visually {border: 0;clip: rect(1px 1px 1px 1px);clip: rect(1px, 1px, 1px, 1px);height: 1px;margin: -1px;overflow: hidden;padding: 0;position: absolute;width: 1px;}#sk-container-id-1 div.sk-estimator {font-family: monospace;background-color: #f0f8ff;border: 1px dotted black;border-radius: 0.25em;box-sizing: border-box;margin-bottom: 0.5em;}#sk-container-id-1 div.sk-estimator:hover {background-color: #d4ebff;}#sk-container-id-1 div.sk-parallel-item::after {content: \"\";width: 100%;border-bottom: 1px solid gray;flex-grow: 1;}#sk-container-id-1 div.sk-label:hover label.sk-toggleable__label {background-color: #d4ebff;}#sk-container-id-1 div.sk-serial::before {content: \"\";position: absolute;border-left: 1px solid gray;box-sizing: border-box;top: 0;bottom: 0;left: 50%;z-index: 0;}#sk-container-id-1 div.sk-serial {display: flex;flex-direction: column;align-items: center;background-color: white;padding-right: 0.2em;padding-left: 0.2em;position: relative;}#sk-container-id-1 div.sk-item {position: relative;z-index: 1;}#sk-container-id-1 div.sk-parallel {display: flex;align-items: stretch;justify-content: center;background-color: white;position: relative;}#sk-container-id-1 div.sk-item::before, #sk-container-id-1 div.sk-parallel-item::before {content: \"\";position: absolute;border-left: 1px solid gray;box-sizing: border-box;top: 0;bottom: 0;left: 50%;z-index: -1;}#sk-container-id-1 div.sk-parallel-item {display: flex;flex-direction: column;z-index: 1;position: relative;background-color: white;}#sk-container-id-1 div.sk-parallel-item:first-child::after {align-self: flex-end;width: 50%;}#sk-container-id-1 div.sk-parallel-item:last-child::after {align-self: flex-start;width: 50%;}#sk-container-id-1 div.sk-parallel-item:only-child::after {width: 0;}#sk-container-id-1 div.sk-dashed-wrapped {border: 1px dashed gray;margin: 0 0.4em 0.5em 0.4em;box-sizing: border-box;padding-bottom: 0.4em;background-color: white;}#sk-container-id-1 div.sk-label label {font-family: monospace;font-weight: bold;display: inline-block;line-height: 1.2em;}#sk-container-id-1 div.sk-label-container {text-align: center;}#sk-container-id-1 div.sk-container {/* jupyter's `normalize.less` sets `[hidden] { display: none; }` but bootstrap.min.css set `[hidden] { display: none !important; }` so we also need the `!important` here to be able to override the default hidden behavior on the sphinx rendered scikit-learn.org. See: https://github.com/scikit-learn/scikit-learn/issues/21755 */display: inline-block !important;position: relative;}#sk-container-id-1 div.sk-text-repr-fallback {display: none;}</style><div id=\"sk-container-id-1\" class=\"sk-top-container\"><div class=\"sk-text-repr-fallback\"><pre>SVC(C=100, kernel=&#x27;linear&#x27;)</pre><b>In a Jupyter environment, please rerun this cell to show the HTML representation or trust the notebook. <br />On GitHub, the HTML representation is unable to render, please try loading this page with nbviewer.org.</b></div><div class=\"sk-container\" hidden><div class=\"sk-item\"><div class=\"sk-estimator sk-toggleable\"><input class=\"sk-toggleable__control sk-hidden--visually\" id=\"sk-estimator-id-1\" type=\"checkbox\" checked><label for=\"sk-estimator-id-1\" class=\"sk-toggleable__label sk-toggleable__label-arrow\">SVC</label><div class=\"sk-toggleable__content\"><pre>SVC(C=100, kernel=&#x27;linear&#x27;)</pre></div></div></div></div></div>"
      ],
      "text/plain": [
       "SVC(C=100, kernel='linear')"
      ]
     },
     "execution_count": 13,
     "metadata": {},
     "output_type": "execute_result"
    }
   ],
   "source": [
    "svm_model = SVC()\n",
    "svm_model.set_params(**best_params).fit(train_features, train_y)"
   ]
  },
  {
   "cell_type": "code",
   "execution_count": 14,
   "metadata": {},
   "outputs": [],
   "source": [
    "true_y_list = test_y\n",
    "predicted_list = svm_model.predict(test_features)"
   ]
  },
  {
   "cell_type": "code",
   "execution_count": 15,
   "metadata": {},
   "outputs": [
    {
     "data": {
      "image/png": "[encoded data removed]",
      "text/plain": [
       "<Figure size 750x750 with 1 Axes>"
      ]
     },
     "metadata": {},
     "output_type": "display_data"
    }
   ],
   "source": [
    "conf_matrix = confusion_matrix(y_true=true_y_list, y_pred=predicted_list)\n",
    "fig, ax = plt.subplots(figsize=(7.5, 7.5))\n",
    "ax.matshow(conf_matrix, cmap=plt.cm.Blues, alpha=0.3)\n",
    "for i in range(conf_matrix.shape[0]):\n",
    "    for j in range(conf_matrix.shape[1]):\n",
    "        ax.text(x=j, y=i,s=conf_matrix[i, j], va='center', ha='center', size='xx-large')\n",
    " \n",
    "plt.xlabel('Predictions', fontsize=18)\n",
    "plt.ylabel('Actuals', fontsize=18)\n",
    "plt.title('Confusion Matrix', fontsize=18)\n",
    "plt.show()"
   ]
  },
  {
   "cell_type": "code",
   "execution_count": 16,
   "metadata": {},
   "outputs": [
    {
     "name": "stdout",
     "output_type": "stream",
     "text": [
      "Test Accuracy: 0.685\n",
      "Test Precision: 0.6608695652173913\n",
      "Test Recall: 0.76\n",
      "Test F1 Score: 0.7069767441860464\n"
     ]
    }
   ],
   "source": [
    "print(\"Test Accuracy: {}\".format(accuracy_score(true_y_list, predicted_list)))\n",
    "print(\"Test Precision: {}\".format(precision_score(true_y_list, predicted_list)))\n",
    "print(\"Test Recall: {}\".format(recall_score(true_y_list, predicted_list)))\n",
    "print(\"Test F1 Score: {}\".format(f1_score(true_y_list, predicted_list)))"
   ]
  }
 ],
 "metadata": {
  "interpreter": {
   "hash": "a1f4dbca42687274f9c696c4377c656df68ed927c8de69ed5247f14c53214afe"
  },
  "kernelspec": {
   "display_name": "Python 3.8.18 ('audio_classification')",
   "language": "python",
   "name": "python3"
  },
  "language_info": {
   "codemirror_mode": {
    "name": "ipython",
    "version": 3
   },
   "file_extension": ".py",
   "mimetype": "text/x-python",
   "name": "python",
   "nbconvert_exporter": "python",
   "pygments_lexer": "ipython3",
   "version": "3.8.18"
  },
  "orig_nbformat": 4
 },
 "nbformat": 4,
 "nbformat_minor": 2
}
